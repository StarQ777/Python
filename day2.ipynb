{
 "cells": [
  {
   "cell_type": "markdown",
   "metadata": {},
   "source": [
    "# Chapter 2\n"
   ]
  },
  {
   "cell_type": "markdown",
   "metadata": {},
   "source": [
    "# Control Structure"
   ]
  },
  {
   "cell_type": "code",
   "execution_count": 1,
   "metadata": {},
   "outputs": [
    {
     "name": "stdout",
     "output_type": "stream",
     "text": [
      "Five is greater than Two\n"
     ]
    }
   ],
   "source": [
    "# if statement\n",
    "if 5>2:\n",
    "    print(\"Five is greater than Two\")\n",
    "\n"
   ]
  },
  {
   "cell_type": "code",
   "execution_count": 2,
   "metadata": {},
   "outputs": [
    {
     "name": "stdout",
     "output_type": "stream",
     "text": [
      "a and b are equal\n"
     ]
    }
   ],
   "source": [
    "#elif Statement \n",
    "a=33\n",
    "b=33\n",
    "if b>a:\n",
    "    print(\"b is greater than a\")\n",
    "elif a==b:\n",
    "    print(\"a and b are equal\")\n",
    "else:\n",
    "    print(\"a is greater than b\")\n"
   ]
  },
  {
   "cell_type": "code",
   "execution_count": 3,
   "metadata": {},
   "outputs": [
    {
     "name": "stdout",
     "output_type": "stream",
     "text": [
      "0\n",
      "1\n",
      "2\n",
      "3\n",
      "4\n"
     ]
    }
   ],
   "source": [
    "#for variable in sequence:\n",
    " #code to execute \n",
    "for i in range(5):\n",
    "    print(i)"
   ]
  },
  {
   "cell_type": "code",
   "execution_count": 4,
   "metadata": {},
   "outputs": [
    {
     "name": "stdout",
     "output_type": "stream",
     "text": [
      "P\n",
      "y\n",
      "t\n",
      "h\n",
      "o\n",
      "n\n"
     ]
    }
   ],
   "source": [
    "for char in \"Python\":\n",
    "    print(char)"
   ]
  },
  {
   "cell_type": "code",
   "execution_count": null,
   "metadata": {},
   "outputs": [],
   "source": []
  },
  {
   "cell_type": "code",
   "execution_count": 5,
   "metadata": {},
   "outputs": [
    {
     "name": "stdout",
     "output_type": "stream",
     "text": [
      "K\n",
      "r\n",
      "i\n",
      "t\n",
      "i\n",
      "k\n",
      "a\n"
     ]
    }
   ],
   "source": [
    "for char in \"Kritika\":\n",
    "    print(char)"
   ]
  },
  {
   "cell_type": "code",
   "execution_count": 6,
   "metadata": {},
   "outputs": [
    {
     "name": "stdout",
     "output_type": "stream",
     "text": [
      "1 has apple\n",
      "2 has banana\n",
      "3 has coconut\n",
      "4 has Pomogranate\n",
      "5 has kiwi\n",
      "6 has strawberry\n"
     ]
    }
   ],
   "source": [
    "fruits=('apple', 'banana' ,'coconut','Pomogranate','kiwi','strawberry')\n",
    "for index,value in enumerate (fruits):\n",
    "    print(index+1,\"has\",value)"
   ]
  },
  {
   "cell_type": "code",
   "execution_count": 7,
   "metadata": {},
   "outputs": [
    {
     "name": "stdout",
     "output_type": "stream",
     "text": [
      "0\n",
      "1\n",
      "2\n",
      "3\n",
      "4\n"
     ]
    }
   ],
   "source": [
    "count=0\n",
    "while count<5:\n",
    "    print(count)\n",
    "    count+=1"
   ]
  },
  {
   "cell_type": "code",
   "execution_count": 8,
   "metadata": {},
   "outputs": [],
   "source": [
    "user_input = \" \"\n",
    "while user_input.lower() != \"q\":\n",
    "    user_input = input(\"Unequal text: \")"
   ]
  },
  {
   "cell_type": "code",
   "execution_count": 9,
   "metadata": {},
   "outputs": [
    {
     "name": "stdout",
     "output_type": "stream",
     "text": [
      "0 : l\n",
      "1 : o\n",
      "2 : l\n"
     ]
    }
   ],
   "source": [
    "user_input=input()\n",
    "for index,value in enumerate (user_input):\n",
    "    print(index,\":\",value)"
   ]
  },
  {
   "cell_type": "code",
   "execution_count": 11,
   "metadata": {},
   "outputs": [
    {
     "name": "stdout",
     "output_type": "stream",
     "text": [
      "The final list is: ['2', '3', '1', '2', '5', '6']\n"
     ]
    }
   ],
   "source": [
    "\n",
    "user_list = []\n",
    "\n",
    "num_elements = int(input(\"Enter the number: \"))\n",
    "\n",
    "for i in range(num_elements):\n",
    "    element = input(f\"Enter element {i + 1}: \")\n",
    "    user_list.append(element)\n",
    "\n",
    "print(\"The final list is:\", user_list)"
   ]
  },
  {
   "cell_type": "code",
   "execution_count": 35,
   "metadata": {},
   "outputs": [
    {
     "name": "stdout",
     "output_type": "stream",
     "text": [
      "0\n",
      "777\n",
      "1554\n",
      "2331\n",
      "3108\n",
      "3885\n",
      "4662\n",
      "5439\n",
      "6216\n",
      "6993\n",
      "7770\n",
      "8547\n",
      "9324\n"
     ]
    }
   ],
   "source": [
    "#while loop\n",
    "count=0\n",
    "while count<=10000:\n",
    "    print(count )\n",
    "    count +=777\n",
    "\n",
    "\n"
   ]
  },
  {
   "cell_type": "code",
   "execution_count": 37,
   "metadata": {},
   "outputs": [
    {
     "name": "stdout",
     "output_type": "stream",
     "text": [
      "0\n",
      "1\n",
      "2\n",
      "3\n",
      "4\n",
      "5\n",
      "6\n",
      "7\n",
      "8\n",
      "9\n",
      "10 is found\n"
     ]
    }
   ],
   "source": [
    "#break statement\n",
    "for i in range(15):\n",
    "    if i ==10:\n",
    "        print(\"10 is found\")\n",
    "        break \n",
    "    print(i)"
   ]
  },
  {
   "cell_type": "code",
   "execution_count": 38,
   "metadata": {},
   "outputs": [
    {
     "name": "stdout",
     "output_type": "stream",
     "text": [
      "1\n",
      "2\n",
      "4\n",
      "5\n",
      "7\n",
      "8\n",
      "10\n",
      "11\n",
      "13\n",
      "14\n"
     ]
    }
   ],
   "source": [
    "#continue statement \n",
    "for i in range(15):\n",
    "    if i%3==0:\n",
    "        continue\n",
    "    print(i)\n"
   ]
  },
  {
   "cell_type": "code",
   "execution_count": 41,
   "metadata": {},
   "outputs": [
    {
     "name": "stdout",
     "output_type": "stream",
     "text": [
      "14\n"
     ]
    }
   ],
   "source": [
    "#pass statement\n",
    "for i in range(15):\n",
    " pass\n",
    "print(i)"
   ]
  },
  {
   "cell_type": "code",
   "execution_count": 53,
   "metadata": {},
   "outputs": [
    {
     "name": "stdout",
     "output_type": "stream",
     "text": [
      "i:0,j:-1\n",
      "i:0,j:-1,k:-2\n",
      "i:0,j:-1\n",
      "i:0,j:-1,k:-1\n",
      "i:0,j:-1\n",
      "i:0,j:-1,k:0\n",
      "i:0,j:0\n",
      "i:0,j:0,k:-2\n",
      "i:0,j:0\n",
      "i:0,j:0,k:-1\n",
      "i:0,j:0\n",
      "i:0,j:0,k:0\n",
      "i:1,j:-1\n",
      "i:1,j:-1,k:-2\n",
      "i:1,j:-1\n",
      "i:1,j:-1,k:-1\n",
      "i:1,j:-1\n",
      "i:1,j:-1,k:0\n",
      "i:1,j:0\n",
      "i:1,j:0,k:-2\n",
      "i:1,j:0\n",
      "i:1,j:0,k:-1\n",
      "i:1,j:0\n",
      "i:1,j:0,k:0\n",
      "i:2,j:-1\n",
      "i:2,j:-1,k:-2\n",
      "i:2,j:-1\n",
      "i:2,j:-1,k:-1\n",
      "i:2,j:-1\n",
      "i:2,j:-1,k:0\n",
      "i:2,j:0\n",
      "i:2,j:0,k:-2\n",
      "i:2,j:0\n",
      "i:2,j:0,k:-1\n",
      "i:2,j:0\n",
      "i:2,j:0,k:0\n",
      "i:3,j:-1\n",
      "i:3,j:-1,k:-2\n",
      "i:3,j:-1\n",
      "i:3,j:-1,k:-1\n",
      "i:3,j:-1\n",
      "i:3,j:-1,k:0\n",
      "i:3,j:0\n",
      "i:3,j:0,k:-2\n",
      "i:3,j:0\n",
      "i:3,j:0,k:-1\n",
      "i:3,j:0\n",
      "i:3,j:0,k:0\n"
     ]
    }
   ],
   "source": [
    "#nested loop \n",
    "for i in range(4):\n",
    "    for j in range(2):\n",
    "     for k in range(3):\n",
    "         print(f\"i:{i*1},j:{j-1}\")\n",
    "         print(f\"i:{i*1},j:{j-1},k:{k-2}\")"
   ]
  },
  {
   "cell_type": "code",
   "execution_count": 68,
   "metadata": {},
   "outputs": [
    {
     "name": "stdout",
     "output_type": "stream",
     "text": [
      "*\n",
      "*\n",
      "*\n",
      "*\n",
      "*\n",
      "*\n",
      "*\n",
      "*\n",
      "*\n",
      "*\n",
      "*\n",
      "*\n"
     ]
    }
   ],
   "source": [
    "#to print traiangle pattern \n",
    "rows = int(input(\"enter the numbers of rows\"))\n",
    "for i in range(0,rows):\n",
    "        for j in range(0,rows+1):\n",
    "         print(\"*\",end=\"\")\n",
    "         print(\"\\r\")"
   ]
  },
  {
   "cell_type": "code",
   "execution_count": 70,
   "metadata": {},
   "outputs": [
    {
     "name": "stdout",
     "output_type": "stream",
     "text": [
      "0\n",
      "1\n",
      "2\n",
      "3\n",
      "4\n",
      "5\n",
      "6\n",
      "7\n",
      "8\n",
      "9\n",
      "10\n",
      "11\n",
      "loop completed successfully\n"
     ]
    }
   ],
   "source": [
    "#else in lops \n",
    "for i in range(12):\n",
    "    print(i)\n",
    "else:\n",
    "    print(\"loop completed successfully\")"
   ]
  },
  {
   "cell_type": "markdown",
   "metadata": {},
   "source": [
    "# Function \n"
   ]
  },
  {
   "cell_type": "code",
   "execution_count": 72,
   "metadata": {},
   "outputs": [],
   "source": [
    "def greet():\n",
    "    pass"
   ]
  },
  {
   "cell_type": "code",
   "execution_count": 85,
   "metadata": {},
   "outputs": [],
   "source": [
    "#defining function \n",
    "def greet(name):\n",
    "    print(f\" Hello, {name}\")\n",
    "#calling Function \n",
    "    greet(\"John\")"
   ]
  },
  {
   "cell_type": "code",
   "execution_count": 86,
   "metadata": {},
   "outputs": [
    {
     "name": "stdout",
     "output_type": "stream",
     "text": [
      "-2\n"
     ]
    }
   ],
   "source": [
    "#returning values from functions\n",
    "def sum(s,k):\n",
    "    return s-k\n",
    "result=sum(23,25)\n",
    "print(result)"
   ]
  },
  {
   "cell_type": "code",
   "execution_count": 91,
   "metadata": {},
   "outputs": [
    {
     "name": "stdout",
     "output_type": "stream",
     "text": [
      "Hello,Kritika\n"
     ]
    }
   ],
   "source": [
    "#default srgument \n",
    "def greet(name=\"Kritika\"):\n",
    "    print(f\"Hello,{name}\")\n",
    "greet()"
   ]
  },
  {
   "cell_type": "code",
   "execution_count": 96,
   "metadata": {},
   "outputs": [
    {
     "name": "stdout",
     "output_type": "stream",
     "text": [
      "49\n",
      "25\n"
     ]
    }
   ],
   "source": [
    "#lambda function\n",
    "def square_it(a):\n",
    "    return a*a\n",
    "square_lambda=lambda num:num*num\n",
    "print(square_lambda(7))\n",
    "print(square_it(5))"
   ]
  },
  {
   "cell_type": "code",
   "execution_count": 97,
   "metadata": {},
   "outputs": [
    {
     "name": "stdout",
     "output_type": "stream",
     "text": [
      "[1, 4, 9, 16, 25, 36, 49]\n",
      "[2, 4, 6]\n"
     ]
    }
   ],
   "source": [
    "#lambda with map\n",
    "numbers=[1,2,3,4,5,6,7]\n",
    "squared_numbers=list(map(lambda num:num*num,numbers))\n",
    "print(squared_numbers)\n",
    "#lambda with filers\n",
    "even_numbers=list(filter(lambda num:num%2==0,numbers))\n",
    "print(even_numbers)"
   ]
  },
  {
   "cell_type": "code",
   "execution_count": 98,
   "metadata": {},
   "outputs": [],
   "source": []
  },
  {
   "cell_type": "code",
   "execution_count": null,
   "metadata": {},
   "outputs": [],
   "source": []
  }
 ],
 "metadata": {
  "kernelspec": {
   "display_name": ".venv",
   "language": "python",
   "name": "python3"
  },
  "language_info": {
   "codemirror_mode": {
    "name": "ipython",
    "version": 3
   },
   "file_extension": ".py",
   "mimetype": "text/x-python",
   "name": "python",
   "nbconvert_exporter": "python",
   "pygments_lexer": "ipython3",
   "version": "3.13.1"
  }
 },
 "nbformat": 4,
 "nbformat_minor": 2
}
