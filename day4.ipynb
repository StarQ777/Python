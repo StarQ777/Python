{
 "cells": [
  {
   "cell_type": "markdown",
   "metadata": {},
   "source": [
    "## Object Oriented programming\n"
   ]
  },
  {
   "cell_type": "code",
   "execution_count": 1,
   "metadata": {},
   "outputs": [
    {
     "name": "stdout",
     "output_type": "stream",
     "text": [
      "<class 'str'>\n",
      "HELLO JARVIS\n",
      "hello jarvis\n",
      "Hello Friday\n",
      "['Hello Jarvis']\n",
      "Hello Jarvis\n"
     ]
    }
   ],
   "source": [
    "#str Class\n",
    "\n",
    "s=\"Hello Jarvis\"\n",
    "print(type(s))\n",
    "print(s.upper())\n",
    "print(s.lower())\n",
    "print(s.replace(\"Jarvis\",\"Friday\"))\n",
    "print(s.split(\",\"))\n",
    "print(s.strip())"
   ]
  },
  {
   "cell_type": "code",
   "execution_count": 8,
   "metadata": {},
   "outputs": [
    {
     "name": "stdout",
     "output_type": "stream",
     "text": [
      "['My', 'self', 'sujal', 'Chitrakar', ',i', 'am', '20', 'years', 'old', ',i', 'am', 'working', 'as', 'Associate', 'manager', 'in', 'Foodmandu', 'OneMart']\n"
     ]
    }
   ],
   "source": [
    "dummyParagraph=\"\"\"My self sujal Chitrakar ,i am 20 years old ,i am working as Associate manager in Foodmandu OneMart\"\"\"\n",
    "dummyParagraph=dummyParagraph.strip()\n",
    "dummyParagraph=dummyParagraph.split(\" \")\n",
    "print(dummyParagraph)"
   ]
  },
  {
   "cell_type": "code",
   "execution_count": null,
   "metadata": {},
   "outputs": [
    {
     "name": "stdout",
     "output_type": "stream",
     "text": [
      "10\n",
      "1554\n",
      "200\n"
     ]
    }
   ],
   "source": [
    "# int class\n",
    "\n",
    "x=777\n",
    "print(x.bit_length())\n",
    "print(x.__add__(777))\n",
    "print(int(\"200\"))"
   ]
  },
  {
   "cell_type": "code",
   "execution_count": 37,
   "metadata": {},
   "outputs": [
    {
     "ename": "TypeError",
     "evalue": "Car.__init__() missing 1 required positional argument: 'cost'",
     "output_type": "error",
     "traceback": [
      "\u001b[1;31m---------------------------------------------------------------------------\u001b[0m",
      "\u001b[1;31mTypeError\u001b[0m                                 Traceback (most recent call last)",
      "Cell \u001b[1;32mIn[37], line 11\u001b[0m\n\u001b[0;32m      9\u001b[0m         \u001b[38;5;28mprint\u001b[39m(\u001b[38;5;124mf\u001b[39m\u001b[38;5;124m\"\u001b[39m\u001b[38;5;124mCar:\u001b[39m\u001b[38;5;132;01m{\u001b[39;00m\u001b[38;5;28mself\u001b[39m\u001b[38;5;241m.\u001b[39mbrand\u001b[38;5;132;01m}\u001b[39;00m\u001b[38;5;124m \u001b[39m\u001b[38;5;132;01m{\u001b[39;00m\u001b[38;5;28mself\u001b[39m\u001b[38;5;241m.\u001b[39mmodel\u001b[38;5;132;01m}\u001b[39;00m\u001b[38;5;124m\"\u001b[39m)\n\u001b[0;32m     10\u001b[0m \u001b[38;5;66;03m# creating object\u001b[39;00m\n\u001b[1;32m---> 11\u001b[0m car1\u001b[38;5;241m=\u001b[39m\u001b[43mCar\u001b[49m\u001b[43m(\u001b[49m\u001b[38;5;124;43m\"\u001b[39;49m\u001b[38;5;124;43mMercedez\u001b[39;49m\u001b[38;5;124;43m\"\u001b[39;49m\u001b[43m,\u001b[49m\u001b[38;5;124;43m\"\u001b[39;49m\u001b[38;5;124;43mAMG-650\u001b[39;49m\u001b[38;5;124;43m\"\u001b[39;49m\u001b[43m)\u001b[49m\n\u001b[0;32m     12\u001b[0m car1\u001b[38;5;241m.\u001b[39mdisplay_info()\n",
      "\u001b[1;31mTypeError\u001b[0m: Car.__init__() missing 1 required positional argument: 'cost'"
     ]
    }
   ],
   "source": [
    "#General Class\n",
    "class Car:\n",
    "    def __init__(self,brand,model,cost):# constructer\n",
    "        self.brand = brand\n",
    "        self.model = model\n",
    "        self.cost = cost\n",
    "        # this class is with single method\n",
    "    def display_info (self):\n",
    "        print(f\"Car:{self.brand} {self.model}\")\n",
    "# creating object\n",
    "car1=Car(\"Mercedez\",\"AMG-650\")\n",
    "car1.display_info()\n"
   ]
  },
  {
   "cell_type": "code",
   "execution_count": 35,
   "metadata": {},
   "outputs": [
    {
     "name": "stdout",
     "output_type": "stream",
     "text": [
      "7\n",
      "30\n"
     ]
    }
   ],
   "source": [
    "# class with multiple methods\n",
    "\n",
    "class Calculator:\n",
    "    def add(self,a,b):\n",
    "        return a+b\n",
    "    def multiply(self,a,b):\n",
    "        return a*b\n",
    "calc=Calculator()\n",
    "print(calc.add(5,2))\n",
    "print(calc.multiply(5,6))"
   ]
  },
  {
   "cell_type": "code",
   "execution_count": 3,
   "metadata": {},
   "outputs": [
    {
     "name": "stdout",
     "output_type": "stream",
     "text": [
      "bark!\n",
      "Base animal method can be called from dog:\n",
      "bark!\n"
     ]
    }
   ],
   "source": [
    "# Extending One Class to Another (Inheritannce)\n",
    "class Animal:\n",
    "    def make_sound(self):\n",
    "        print(\"Some Genetic Sound\")\n",
    "    \n",
    "class dog(Animal): # Dog inherit from animal\n",
    "    def make_sound(self):\n",
    "        print(\"bark!\")\n",
    "\n",
    "d=dog()\n",
    "d.make_sound()\n",
    "\n",
    "print(\"Base animal method can be called from dog:\")\n",
    "d.make_sound()"
   ]
  },
  {
   "cell_type": "code",
   "execution_count": 5,
   "metadata": {},
   "outputs": [
    {
     "name": "stdout",
     "output_type": "stream",
     "text": [
      "0\n",
      "5\n",
      "5\n",
      "6\n"
     ]
    }
   ],
   "source": [
    "class mathOperations:\n",
    "\n",
    "    def add(self,*args):\n",
    "        if len(args)==0:\n",
    "            return 0\n",
    "        elif len(args)==1:\n",
    "            return args[0]\n",
    "        else:\n",
    "            return sum(args)\n",
    "\n",
    "math=mathOperations()\n",
    "\n",
    "print(math.add())\n",
    "print(math.add(5))\n",
    "print(math.add(2,3))\n",
    "print(math.add(1,2,3))"
   ]
  },
  {
   "cell_type": "code",
   "execution_count": 9,
   "metadata": {},
   "outputs": [
    {
     "name": "stdout",
     "output_type": "stream",
     "text": [
      "Vehicle is Starting\n",
      "car is starting with ignition\n"
     ]
    }
   ],
   "source": [
    "#Method Overriding\n",
    "\n",
    "class Vehicle:\n",
    "    def start(self):\n",
    "        print(\"Vehicle is Starting\")\n",
    "\n",
    "class Car(Vehicle):\n",
    "    def start(self):\n",
    "        print(\"car is starting with ignition\")\n",
    "v=Vehicle()\n",
    "v.start()\n",
    "\n",
    "c=Car()\n",
    "c.start()"
   ]
  },
  {
   "cell_type": "code",
   "execution_count": 10,
   "metadata": {},
   "outputs": [
    {
     "name": "stdout",
     "output_type": "stream",
     "text": [
      "Args: (1, 'test', True)\n",
      "Type of args: <class 'tuple'>\n",
      "Args: ('python', 3.14)\n",
      "Type of args: <class 'tuple'>\n",
      "Kwargs: {'name': 'StarQ777', 'age': 25}\n",
      "Kwargs: {'language': 'Python', 'version': 3.12}\n"
     ]
    }
   ],
   "source": [
    "#Demonstrating *args and **kwrgs\n",
    "def show_args(*args):\n",
    "    print(\"Args:\",args)\n",
    "    print(\"Type of args:\",type(args))\n",
    "\n",
    "def show_kwargs(**kwargs):\n",
    "    print(\"Kwargs:\",kwargs)\n",
    "\n",
    "show_args(1,\"test\",True)\n",
    "show_args(\"python\",3.14)\n",
    "\n",
    "show_kwargs(name=\"StarQ777\",age=25)\n",
    "show_kwargs(language=\"Python\",version=3.12)\n",
    "\n",
    "\n",
    "\n",
    "\n",
    "\n",
    "\n",
    "\n",
    "\n",
    "\n",
    "\n"
   ]
  },
  {
   "cell_type": "code",
   "execution_count": 24,
   "metadata": {},
   "outputs": [
    {
     "name": "stdout",
     "output_type": "stream",
     "text": [
      "20\n"
     ]
    }
   ],
   "source": [
    "#Encapsulation and property decorators(@property)\n",
    "class Person:\n",
    "    def __init__(self,name,age):\n",
    "     self.name=name\n",
    "     self._age=age\n",
    "\n",
    "@property\n",
    "def age(self):\n",
    "   return self._age\n",
    "\n",
    "@age.setter\n",
    "def age(self,value):\n",
    "   if value<0:\n",
    "      raise ValueError(\"age cannot be negative\")\n",
    "   self._age=value\n",
    "\n",
    "p = Person(\"StarQ777\",20)\n",
    "print(p._age)\n",
    "p.age=27"
   ]
  },
  {
   "cell_type": "markdown",
   "metadata": {},
   "source": [
    "### Polymorphism"
   ]
  },
  {
   "cell_type": "code",
   "execution_count": 26,
   "metadata": {},
   "outputs": [
    {
     "name": "stdout",
     "output_type": "stream",
     "text": [
      "Meow\n",
      "Bark\n"
     ]
    }
   ],
   "source": [
    "class Cat:\n",
    "    def sound(self):\n",
    "        return\"Meow\"\n",
    "    \n",
    "class Dog:\n",
    "    def sound(self):\n",
    "        return\"Bark\"\n",
    "\n",
    "def makeSound(animal):\n",
    "    print(animal.sound())\n",
    "\n",
    "cat=Cat()\n",
    "dog=Dog()\n",
    "\n",
    "makeSound(cat)\n",
    "makeSound(dog)"
   ]
  },
  {
   "cell_type": "code",
   "execution_count": null,
   "metadata": {},
   "outputs": [],
   "source": []
  }
 ],
 "metadata": {
  "kernelspec": {
   "display_name": ".venv",
   "language": "python",
   "name": "python3"
  },
  "language_info": {
   "codemirror_mode": {
    "name": "ipython",
    "version": 3
   },
   "file_extension": ".py",
   "mimetype": "text/x-python",
   "name": "python",
   "nbconvert_exporter": "python",
   "pygments_lexer": "ipython3",
   "version": "3.13.1"
  }
 },
 "nbformat": 4,
 "nbformat_minor": 2
}
