{
 "cells": [
  {
   "cell_type": "code",
   "execution_count": 1,
   "metadata": {},
   "outputs": [
    {
     "data": {
      "text/plain": [
       "8"
      ]
     },
     "execution_count": 1,
     "metadata": {},
     "output_type": "execute_result"
    }
   ],
   "source": [
    "a=3\n",
    "b=5\n",
    "a+b\n"
   ]
  },
  {
   "cell_type": "code",
   "execution_count": 2,
   "metadata": {},
   "outputs": [
    {
     "name": "stdout",
     "output_type": "stream",
     "text": [
      "Addition: 15\n",
      "Subtraction: 5\n",
      "Multiplication: 50\n",
      "Division: 2.0\n"
     ]
    }
   ],
   "source": [
    "# Basic Arithmetic Operations in Python\n",
    "\n",
    "# Define two numbers\n",
    "num1 = 10\n",
    "num2 = 5\n",
    "\n",
    "# Addition\n",
    "addition = num1 + num2\n",
    "print(\"Addition:\",addition)\n",
    "\n",
    "# Subtraction\n",
    "subtraction = num1 - num2\n",
    "print(\"Subtraction:\",subtraction)\n",
    "\n",
    "# Multiplication\n",
    "multiplication = num1 * num2\n",
    "print(f\"Multiplication:\",multiplication)\n",
    "\n",
    "# Division\n",
    "division = num1 / num2\n",
    "print(f\"Division:\",division)\n"
   ]
  },
  {
   "cell_type": "code",
   "execution_count": 3,
   "metadata": {},
   "outputs": [
    {
     "name": "stdout",
     "output_type": "stream",
     "text": [
      "FirstName\n"
     ]
    }
   ],
   "source": [
    "name=\"kritika Nepal\"\n",
    "FirstName=\"kritika\"\n",
    "lastName=\"Nepal\"\n",
    "FullName=\"firstName + lastName\"\n",
    "print(\"FirstName\")\n"
   ]
  },
  {
   "cell_type": "code",
   "execution_count": 4,
   "metadata": {},
   "outputs": [
    {
     "name": "stdout",
     "output_type": "stream",
     "text": [
      "A is greater than B\n"
     ]
    }
   ],
   "source": [
    "a=56\n",
    "b=45\n",
    "if a>b:\n",
    "    print(\"A is greater than B\")\n",
    "else:\n",
    "    print(\"B is greater than A\")"
   ]
  },
  {
   "cell_type": "code",
   "execution_count": 10,
   "metadata": {},
   "outputs": [
    {
     "name": "stdout",
     "output_type": "stream",
     "text": [
      "Aakriti 40000\n"
     ]
    }
   ],
   "source": [
    "Kritika=15000\n",
    "Sujal=25000\n",
    "Aakriti=Kritika+Sujal\n",
    "print(\"Aakriti\",Aakriti)"
   ]
  },
  {
   "cell_type": "code",
   "execution_count": 14,
   "metadata": {},
   "outputs": [
    {
     "name": "stdout",
     "output_type": "stream",
     "text": [
      "654565456\n"
     ]
    }
   ],
   "source": [
    "a=654565456\n",
    "b=a\n",
    "print(b)\n"
   ]
  },
  {
   "cell_type": "code",
   "execution_count": 16,
   "metadata": {},
   "outputs": [
    {
     "name": "stdout",
     "output_type": "stream",
     "text": [
      "SujalKritika\n"
     ]
    }
   ],
   "source": [
    "FirstName=\"Sujal\"\n",
    "lastName=\"Kritika\"\n",
    "print(FirstName + lastName)"
   ]
  },
  {
   "cell_type": "code",
   "execution_count": 17,
   "metadata": {},
   "outputs": [
    {
     "name": "stdout",
     "output_type": "stream",
     "text": [
      "SujalKritika\n"
     ]
    }
   ],
   "source": [
    "FirstName=\"Sujal\";lastName=\"Kritika\";print(FirstName+lastName)\n"
   ]
  },
  {
   "cell_type": "code",
   "execution_count": 27,
   "metadata": {},
   "outputs": [
    {
     "name": "stdout",
     "output_type": "stream",
     "text": [
      "hello 123\n"
     ]
    }
   ],
   "source": [
    "\n",
    "a=\"123\"\n",
    "#printing output\n",
    "print(\"hello\"+\" \"+a)"
   ]
  },
  {
   "cell_type": "code",
   "execution_count": 34,
   "metadata": {},
   "outputs": [
    {
     "name": "stdout",
     "output_type": "stream",
     "text": [
      "Aakriti\n",
      "kritika\n",
      "sujal\n"
     ]
    }
   ],
   "source": [
    "a,k,s=\"Aakriti\",\"kritika\",\"sujal\"\n",
    "print(a)\n",
    "print(k)\n",
    "print(s)"
   ]
  },
  {
   "cell_type": "code",
   "execution_count": 35,
   "metadata": {},
   "outputs": [
    {
     "name": "stdout",
     "output_type": "stream",
     "text": [
      "kritika\n",
      "kritika\n",
      "kritika\n"
     ]
    }
   ],
   "source": [
    "a=b=c=\"kritika\"\n",
    "print(a)\n",
    "print(b)\n",
    "print(c)"
   ]
  },
  {
   "cell_type": "code",
   "execution_count": 36,
   "metadata": {},
   "outputs": [
    {
     "name": "stdout",
     "output_type": "stream",
     "text": [
      "lindt\n"
     ]
    }
   ],
   "source": [
    "chocolate=\"lindt\"\n",
    "Chocolate=\"cadbury\"\n",
    "CHOCOLATE=\"nestle\"\n",
    "_chocolate=\"snicker\"\n",
    "print(chocolate)"
   ]
  },
  {
   "cell_type": "code",
   "execution_count": 37,
   "metadata": {},
   "outputs": [
    {
     "ename": "SyntaxError",
     "evalue": "invalid decimal literal (1459920035.py, line 1)",
     "output_type": "error",
     "traceback": [
      "\u001b[1;36m  Cell \u001b[1;32mIn[37], line 1\u001b[1;36m\u001b[0m\n\u001b[1;33m    5chocolte=\"lindt\"\u001b[0m\n\u001b[1;37m    ^\u001b[0m\n\u001b[1;31mSyntaxError\u001b[0m\u001b[1;31m:\u001b[0m invalid decimal literal\n"
     ]
    }
   ],
   "source": [
    "5chocolte=\"lindt\""
   ]
  },
  {
   "cell_type": "code",
   "execution_count": null,
   "metadata": {},
   "outputs": [
    {
     "name": "stdout",
     "output_type": "stream",
     "text": [
      "data type of num1 is  <class 'int'>\n",
      "data type of num2 is  <class 'float'>\n",
      "data type of num3 is  <class 'str'>\n",
      "data type of num4 is  <class 'complex'>\n",
      "data type of num5 is  <class 'int'>\n"
     ]
    }
   ],
   "source": [
    "num1=5\n",
    "num2=3.12\n",
    "num3=\"12k+s\"\n",
    "num4=4j+6\n",
    "num5=int(input())\n",
    "print(\"data type of num1 is \",type(num1))\n",
    "print(\"data type of num2 is \",type(num2))\n",
    "print(\"data type of num3 is \",type(num3))\n",
    "print(\"data type of num4 is \",type(num4))\n",
    "print(\"data type of num5 is \",type(num5))"
   ]
  },
  {
   "cell_type": "code",
   "execution_count": 49,
   "metadata": {},
   "outputs": [
    {
     "name": "stdout",
     "output_type": "stream",
     "text": [
      "sujal loves kritika\n"
     ]
    }
   ],
   "source": [
    "a=\"sujal\"S\n",
    "b=\"kritika\"\n",
    "print(a,\"loves\",b)"
   ]
  },
  {
   "cell_type": "code",
   "execution_count": 1,
   "metadata": {},
   "outputs": [
    {
     "name": "stdout",
     "output_type": "stream",
     "text": [
      "[1]\n",
      "[1, 2]\n",
      "[1, 2, 3]\n"
     ]
    }
   ],
   "source": [
    "#mutable\n",
    "def add_to_list(value, my_list=[]):\n",
    "    my_list.append(value)\n",
    "    return my_list\n",
    "\n",
    "# Example usage:\n",
    "print(add_to_list(1))  # Output: [1]\n",
    "print(add_to_list(2))  # Output: [1, 2]\n",
    "print(add_to_list(3))  # Output: [1, 2, 3]"
   ]
  },
  {
   "cell_type": "code",
   "execution_count": 14,
   "metadata": {},
   "outputs": [
    {
     "name": "stdout",
     "output_type": "stream",
     "text": [
      "[100, 10, 15, 20]\n",
      "[100, 10, 15, 20, 25]\n",
      "[100, 10, 8, 15, 20, 25]\n",
      "[100, 10, 8, 15, 25]\n",
      "[100, 8, 15, 25]\n",
      "[100, 8, 15, 25, 6, 7]\n",
      "[100, 8, 15, 25, 6, 7]\n"
     ]
    }
   ],
   "source": [
    "my_list=[5,10,15,20]\n",
    "my_list[0]=100\n",
    "print(my_list)\n",
    "my_list.append(25)\n",
    "print(my_list)\n",
    "my_list.insert(2,8)\n",
    "print(my_list)\n",
    "my_list.remove(20)\n",
    "print(my_list)\n",
    "my_list.pop(1)\n",
    "print(my_list)\n",
    "my_list.extend([6,7])\n",
    "print(my_list)\n",
    "# my_list.clear()\n",
    "print(my_list)"
   ]
  },
  {
   "cell_type": "code",
   "execution_count": 30,
   "metadata": {},
   "outputs": [
    {
     "name": "stdout",
     "output_type": "stream",
     "text": [
      "[100, 25, 15, 8, 7, 6]\n"
     ]
    }
   ],
   "source": [
    "my_list.count(2)\n",
    "# my_list.index(6)\n",
    "# my_list.sort()\n",
    "my_list.sort(reverse=True)\n",
    "print(my_list)\n"
   ]
  },
  {
   "cell_type": "markdown",
   "metadata": {},
   "source": [
    "# *StarQ777*"
   ]
  },
  {
   "cell_type": "code",
   "execution_count": 32,
   "metadata": {},
   "outputs": [
    {
     "data": {
      "text/plain": [
       "[1000000, 15625, 3375, 512, 343, 216]"
      ]
     },
     "execution_count": 32,
     "metadata": {},
     "output_type": "execute_result"
    }
   ],
   "source": [
    "my_square_list=[x**3 for x in my_list]\n",
    "my_square_list"
   ]
  },
  {
   "cell_type": "code",
   "execution_count": null,
   "metadata": {},
   "outputs": [],
   "source": []
  },
  {
   "cell_type": "code",
   "execution_count": null,
   "metadata": {},
   "outputs": [],
   "source": []
  },
  {
   "cell_type": "code",
   "execution_count": null,
   "metadata": {},
   "outputs": [],
   "source": [
    "\n"
   ]
  },
  {
   "cell_type": "code",
   "execution_count": null,
   "metadata": {},
   "outputs": [],
   "source": []
  },
  {
   "cell_type": "code",
   "execution_count": null,
   "metadata": {},
   "outputs": [],
   "source": []
  },
  {
   "cell_type": "code",
   "execution_count": null,
   "metadata": {},
   "outputs": [],
   "source": []
  },
  {
   "cell_type": "code",
   "execution_count": null,
   "metadata": {},
   "outputs": [],
   "source": []
  }
 ],
 "metadata": {
  "kernelspec": {
   "display_name": ".venv",
   "language": "python",
   "name": "python3"
  },
  "language_info": {
   "codemirror_mode": {
    "name": "ipython",
    "version": 3
   },
   "file_extension": ".py",
   "mimetype": "text/x-python",
   "name": "python",
   "nbconvert_exporter": "python",
   "pygments_lexer": "ipython3",
   "version": "3.13.1"
  }
 },
 "nbformat": 4,
 "nbformat_minor": 2
}
