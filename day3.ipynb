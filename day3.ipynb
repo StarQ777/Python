{
 "cells": [
  {
   "cell_type": "code",
   "execution_count": 5,
   "metadata": {},
   "outputs": [],
   "source": [
    "#Data structure\n"
   ]
  },
  {
   "cell_type": "code",
   "execution_count": null,
   "metadata": {},
   "outputs": [
    {
     "name": "stdout",
     "output_type": "stream",
     "text": [
      "[1, 2, 3, 4, 9, 12, 5, 6, 7]\n",
      "[1, 2, 3, 4, 9, 12, 5, 6, 7, 8]\n",
      "[1, 2, 4, 9, 12, 5, 6, 7, 8]\n",
      "Data: [12, 9, 8, 7, 6, 5, 4, 2, 1]\n"
     ]
    }
   ],
   "source": [
    "my_list = [1,2,3,4,9,12,5,6,7]\n",
    "print(my_list)\n",
    "my_list.append(8)\n",
    "print(my_list)\n",
    "my_list.remove(3)\n",
    "print(my_list)\n",
    "my_list.sort(reverse=True)\n",
    "print(\"Data:\",my_list)"
   ]
  },
  {
   "cell_type": "code",
   "execution_count": 9,
   "metadata": {},
   "outputs": [
    {
     "name": "stdout",
     "output_type": "stream",
     "text": [
      "[12, 9, 8, 7, 6, 'StarQ777', 4, 2, 1]\n"
     ]
    }
   ],
   "source": [
    "my_list[5]=\"StarQ777\"\n",
    "print(my_list)"
   ]
  },
  {
   "cell_type": "code",
   "execution_count": 10,
   "metadata": {},
   "outputs": [
    {
     "data": {
      "text/plain": [
       "1"
      ]
     },
     "execution_count": 10,
     "metadata": {},
     "output_type": "execute_result"
    }
   ],
   "source": [
    "my_list.count(2)"
   ]
  },
  {
   "cell_type": "code",
   "execution_count": 12,
   "metadata": {},
   "outputs": [
    {
     "name": "stdout",
     "output_type": "stream",
     "text": [
      "tuple (1, 2, 3, 4, 5, 6, 7)\n"
     ]
    }
   ],
   "source": [
    "#tuples\n",
    "my_tuple=(1,2,3,4,5,6,7)\n",
    "print(\"tuple\",my_tuple)\n",
    "\n",
    "\n"
   ]
  },
  {
   "cell_type": "code",
   "execution_count": 13,
   "metadata": {},
   "outputs": [
    {
     "data": {
      "text/plain": [
       "[1, 2, 3, 4, 5, 6, 7]"
      ]
     },
     "execution_count": 13,
     "metadata": {},
     "output_type": "execute_result"
    }
   ],
   "source": [
    "tuple_list=list(my_tuple)\n",
    "tuple_list"
   ]
  },
  {
   "cell_type": "code",
   "execution_count": 14,
   "metadata": {},
   "outputs": [
    {
     "name": "stdout",
     "output_type": "stream",
     "text": [
      "Set: {1, 2, 3, 4, 7}\n",
      "Union: {1, 2, 3, 4, 5, 6, 7, 8}\n",
      "Intersection: {4, 7}\n",
      "DIfference: {1, 2, 3}\n"
     ]
    }
   ],
   "source": [
    "my_set={1,2,3,4,5}\n",
    "my_set.add(7)\n",
    "my_set.remove(5)\n",
    "another_set={4,5,6,7,8}\n",
    "print(\"Set:\",my_set)\n",
    "print(\"Union:\",my_set.union(another_set))\n",
    "print(\"Intersection:\",my_set.intersection(another_set))\n",
    "print(\"DIfference:\",my_set.difference(another_set))"
   ]
  },
  {
   "cell_type": "code",
   "execution_count": 15,
   "metadata": {},
   "outputs": [
    {
     "data": {
      "text/plain": [
       "{1, 7}"
      ]
     },
     "execution_count": 15,
     "metadata": {},
     "output_type": "execute_result"
    }
   ],
   "source": [
    "first_set={1,3,5,7}\n",
    "second_set={2,3,5,6}\n",
    "result=first_set-second_set\n",
    "result"
   ]
  },
  {
   "cell_type": "code",
   "execution_count": 16,
   "metadata": {},
   "outputs": [
    {
     "name": "stdout",
     "output_type": "stream",
     "text": [
      "{3, 5}\n",
      "{3, 5}\n"
     ]
    }
   ],
   "source": [
    "t1=first_set-second_set\n",
    "t2=second_set-first_set\n",
    "t3=first_set.union(second_set)\n",
    "print(first_set.intersection(second_set))\n",
    "\n",
    "intersection_value=t3-t1-t2\n",
    "intersection_value\n",
    "print(intersection_value)\n"
   ]
  },
  {
   "cell_type": "code",
   "execution_count": 17,
   "metadata": {},
   "outputs": [
    {
     "name": "stdout",
     "output_type": "stream",
     "text": [
      "dictonary: {'name': 'Sujal', 'age': 23, 'gender': 'male', 'Location': 'Chyasal'}\n",
      "key: dict_keys(['name', 'age', 'gender', 'Location'])\n",
      "values: dict_values(['Sujal', 23, 'male', 'Chyasal'])\n",
      "item: dict_items([('name', 'Sujal'), ('age', 23), ('gender', 'male'), ('Location', 'Chyasal')])\n"
     ]
    }
   ],
   "source": [
    "#Dictonary\n",
    "my_dic={'name':'Sujal','age':25,'gender':'male'}\n",
    "my_dic['age']=23\n",
    "my_dic.update({'Location':'Chyasal'})\n",
    "print(\"dictonary:\",my_dic)\n",
    "print(\"key:\",my_dic.keys())\n",
    "print(\"values:\",my_dic.values( ))\n",
    "print(\"item:\",my_dic.items())\n",
    "\n"
   ]
  },
  {
   "cell_type": "code",
   "execution_count": 24,
   "metadata": {},
   "outputs": [
    {
     "name": "stdout",
     "output_type": "stream",
     "text": [
      "square: [0, 1, 4, 9, 16, 25, 36]\n"
     ]
    }
   ],
   "source": [
    "#list comprehensions\n",
    "#basic syntax\n",
    "squares=[x**2 for x in range(7)]\n",
    "print(\"square:\",squares)"
   ]
  },
  {
   "cell_type": "code",
   "execution_count": 25,
   "metadata": {},
   "outputs": [
    {
     "name": "stdout",
     "output_type": "stream",
     "text": [
      "Even square: [0, 4, 16, 36, 64]\n"
     ]
    }
   ],
   "source": [
    "#conditional comprehensions(if)\n",
    "even_squares=[x**2 for x in range(10) if x % 2==0]\n",
    "print(\"Even square:\",even_squares)"
   ]
  },
  {
   "cell_type": "code",
   "execution_count": 27,
   "metadata": {},
   "outputs": [
    {
     "name": "stdout",
     "output_type": "stream",
     "text": [
      "odd or even: ['even', 'odd', 'even', 'odd', 'even', 'odd', 'even', 'odd', 'even', 'odd']\n"
     ]
    }
   ],
   "source": [
    "odd_even =[\"even\"if x % 2==0 else \"odd\" for x in range(10)]\n",
    "print(\"odd or even:\",odd_even\n",
    "      )"
   ]
  },
  {
   "cell_type": "code",
   "execution_count": 31,
   "metadata": {},
   "outputs": [
    {
     "name": "stdout",
     "output_type": "stream",
     "text": [
      "Matrix: [[0, 1, 2, 3, 4], [0, 1, 2, 3, 4], [0, 1, 2, 3, 4]]\n"
     ]
    }
   ],
   "source": [
    "#Nested comprehensions\n",
    "matrix=[[j for j in range(5)]for i in range(3)]\n",
    "print(\"Matrix:\",matrix)"
   ]
  },
  {
   "cell_type": "code",
   "execution_count": 32,
   "metadata": {},
   "outputs": [
    {
     "name": "stdout",
     "output_type": "stream",
     "text": [
      "squares disctionary: {0: 0, 1: 1, 2: 4, 3: 9, 4: 16, 5: 25, 6: 36, 7: 49, 8: 64, 9: 81}\n"
     ]
    }
   ],
   "source": [
    "#dictionary comprehensions\n",
    "#basic syntax\n",
    "squares_dict={x:x**2 for x in range(10)}\n",
    "print(\"squares disctionary:\",squares_dict)"
   ]
  },
  {
   "cell_type": "code",
   "execution_count": 34,
   "metadata": {},
   "outputs": [],
   "source": [
    "#conditional comprehansions (if)\n"
   ]
  },
  {
   "cell_type": "code",
   "execution_count": 35,
   "metadata": {},
   "outputs": [],
   "source": [
    "#nested "
   ]
  },
  {
   "cell_type": "code",
   "execution_count": 36,
   "metadata": {},
   "outputs": [
    {
     "name": "stdout",
     "output_type": "stream",
     "text": [
      "List Item: 12\n",
      "List Item: 9\n",
      "List Item: 8\n",
      "List Item: 7\n",
      "List Item: 6\n",
      "List Item: StarQ777\n",
      "List Item: 4\n",
      "List Item: 2\n",
      "List Item: 1\n",
      "Set item: 1\n",
      "Set item: 2\n",
      "Set item: 3\n",
      "Set item: 4\n",
      "Set item: 7\n",
      "Dictionary key:name,value:Sujal\n",
      "Dictionary key:age,value:23\n",
      "Dictionary key:gender,value:male\n",
      "Dictionary key:Location,value:Chyasal\n"
     ]
    }
   ],
   "source": [
    "# Iterating Through a list \n",
    "for item in my_list:\n",
    "    print(\"List Item:\",item)\n",
    "\n",
    "#Iterating Through a set \n",
    "for item in my_set:\n",
    "    print(\"Set item:\",item)\n",
    "\n",
    "#Iterating Through a dictionary\n",
    "for key, value in my_dic.items():\n",
    "    print(f\"Dictionary key:{key},value:{value}\")"
   ]
  },
  {
   "cell_type": "code",
   "execution_count": 40,
   "metadata": {},
   "outputs": [
    {
     "name": "stdout",
     "output_type": "stream",
     "text": [
      "List [1, 2, 3, 4, 5, 6, 7]\n",
      "length: 7\n",
      "minimun: 1\n",
      "maximun: 7\n",
      "sum: 28\n",
      "sprted list: [1, 2, 3, 4, 5, 6, 7]\n",
      "count of 5: 1\n",
      "index of 7: 6\n",
      "\n"
     ]
    }
   ],
   "source": [
    "#list Operations \n",
    "\n",
    "my_list=[1,2,3,4,5,6,7]\n",
    "print(\"List\",my_list)\n",
    "print(\"length:\",len(my_list))\n",
    "print(\"minimun:\",min(my_list))\n",
    "print(\"maximun:\",max(my_list))\n",
    "print(\"sum:\",sum(my_list))\n",
    "print(\"sprted list:\",sorted(my_list))\n",
    "print(\"count of 5:\",my_list.count(5))\n",
    "print(\"index of 7:\",my_list.index(7))\n",
    "print()\n"
   ]
  },
  {
   "cell_type": "code",
   "execution_count": 41,
   "metadata": {},
   "outputs": [
    {
     "name": "stdout",
     "output_type": "stream",
     "text": [
      "set:\n"
     ]
    }
   ],
   "source": [
    "my_set={5,10,15,20,25}\n",
    "print(\"set:\",)"
   ]
  },
  {
   "cell_type": "code",
   "execution_count": 42,
   "metadata": {},
   "outputs": [],
   "source": [
    "#person entering super market "
   ]
  },
  {
   "cell_type": "code",
   "execution_count": null,
   "metadata": {},
   "outputs": [],
   "source": []
  }
 ],
 "metadata": {
  "kernelspec": {
   "display_name": ".venv",
   "language": "python",
   "name": "python3"
  },
  "language_info": {
   "codemirror_mode": {
    "name": "ipython",
    "version": 3
   },
   "file_extension": ".py",
   "mimetype": "text/x-python",
   "name": "python",
   "nbconvert_exporter": "python",
   "pygments_lexer": "ipython3",
   "version": "3.13.1"
  }
 },
 "nbformat": 4,
 "nbformat_minor": 2
}
