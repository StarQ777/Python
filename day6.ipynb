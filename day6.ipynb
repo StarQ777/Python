{
 "cells": [
  {
   "cell_type": "code",
   "execution_count": null,
   "metadata": {},
   "outputs": [
    {
     "name": "stdout",
     "output_type": "stream",
     "text": [
      "Name: sujal chitrakar \n"
     ]
    }
   ],
   "source": [
    "user input \n",
    "name \n",
    "gender \n",
    "address\n",
    "\n",
    "choosing facaulty (csit , bca , bim , engineerimg )\n",
    "\n",
    "\n",
    "filtering addres within one area \n",
    "\n",
    "\n",
    "list of male and female \n",
    "\n",
    "\n"
   ]
  },
  {
   "cell_type": "code",
   "execution_count": null,
   "metadata": {},
   "outputs": [
    {
     "name": "stdout",
     "output_type": "stream",
     "text": [
      "Name: sujal \n",
      "Faculty: bca\n"
     ]
    }
   ],
   "source": []
  },
  {
   "cell_type": "code",
   "execution_count": 38,
   "metadata": {},
   "outputs": [
    {
     "name": "stdout",
     "output_type": "stream",
     "text": [
      "\n",
      "Choose your faculty:\n",
      "1. CSIT\n",
      "2. BCA\n",
      "3. BIM\n",
      "4. Engineering\n",
      "\n",
      "Choose your faculty:\n",
      "1. CSIT\n",
      "2. BCA\n",
      "3. BIM\n",
      "4. Engineering\n",
      "\n",
      "Choose your faculty:\n",
      "1. CSIT\n",
      "2. BCA\n",
      "3. BIM\n",
      "4. Engineering\n"
     ]
    },
    {
     "ename": "AttributeError",
     "evalue": "'str' object has no attribute 'append'",
     "output_type": "error",
     "traceback": [
      "\u001b[1;31m---------------------------------------------------------------------------\u001b[0m",
      "\u001b[1;31mAttributeError\u001b[0m                            Traceback (most recent call last)",
      "Cell \u001b[1;32mIn[38], line 24\u001b[0m\n\u001b[0;32m     16\u001b[0m     n \u001b[38;5;241m+\u001b[39m\u001b[38;5;241m=\u001b[39m\u001b[38;5;241m1\u001b[39m\n\u001b[0;32m     18\u001b[0m faculty \u001b[38;5;241m=\u001b[39m {\n\u001b[0;32m     19\u001b[0m     \u001b[38;5;124m'\u001b[39m\u001b[38;5;124m1\u001b[39m\u001b[38;5;124m'\u001b[39m: \u001b[38;5;124m'\u001b[39m\u001b[38;5;124mCSIT\u001b[39m\u001b[38;5;124m'\u001b[39m,\n\u001b[0;32m     20\u001b[0m     \u001b[38;5;124m'\u001b[39m\u001b[38;5;124m2\u001b[39m\u001b[38;5;124m'\u001b[39m: \u001b[38;5;124m'\u001b[39m\u001b[38;5;124mBCA\u001b[39m\u001b[38;5;124m'\u001b[39m,\n\u001b[0;32m     21\u001b[0m     \u001b[38;5;124m'\u001b[39m\u001b[38;5;124m3\u001b[39m\u001b[38;5;124m'\u001b[39m: \u001b[38;5;124m'\u001b[39m\u001b[38;5;124mBIM\u001b[39m\u001b[38;5;124m'\u001b[39m,\n\u001b[0;32m     22\u001b[0m     \u001b[38;5;124m'\u001b[39m\u001b[38;5;124m4\u001b[39m\u001b[38;5;124m'\u001b[39m: \u001b[38;5;124m'\u001b[39m\u001b[38;5;124mEngineering\u001b[39m\u001b[38;5;124m'\u001b[39m\n\u001b[0;32m     23\u001b[0m  }\n\u001b[1;32m---> 24\u001b[0m \u001b[43muser\u001b[49m\u001b[38;5;241;43m.\u001b[39;49m\u001b[43mappend\u001b[49m(add_user)\n",
      "\u001b[1;31mAttributeError\u001b[0m: 'str' object has no attribute 'append'"
     ]
    }
   ],
   "source": [
    "users = []\n",
    "n=1\n",
    "while n<4:\n",
    "    def add_user():\n",
    "        name = input(\"Enter your name: \")\n",
    "        gender = input(\"Enter your gender (male/female): \")\n",
    "        address = input(\"Enter your address: \")\n",
    "        print(\"\\nChoose your faculty:\")\n",
    "        print(\"1. CSIT\")\n",
    "        print(\"2. BCA\")\n",
    "        print(\"3. BIM\")\n",
    "        print(\"4. Engineering\")\n",
    "        faculty_choice = input(\"Enter the number of your faculty: \")\n",
    "\n",
    "    add_user()\n",
    "    n +=1\n",
    "\n",
    "faculty = {\n",
    "    '1': 'CSIT',\n",
    "    '2': 'BCA',\n",
    "    '3': 'BIM',\n",
    "    '4': 'Engineering'\n",
    " }\n",
    "user.append(add_user)\n"
   ]
  },
  {
   "cell_type": "code",
   "execution_count": 39,
   "metadata": {},
   "outputs": [
    {
     "ename": "NameError",
     "evalue": "name 'student_data' is not defined",
     "output_type": "error",
     "traceback": [
      "\u001b[1;31m---------------------------------------------------------------------------\u001b[0m",
      "\u001b[1;31mNameError\u001b[0m                                 Traceback (most recent call last)",
      "Cell \u001b[1;32mIn[39], line 3\u001b[0m\n\u001b[0;32m      1\u001b[0m student_living_in_Ktm\u001b[38;5;241m=\u001b[39m[]\n\u001b[1;32m----> 3\u001b[0m \u001b[38;5;28;01mfor\u001b[39;00m each_student \u001b[38;5;129;01min\u001b[39;00m \u001b[43mstudent_data\u001b[49m:\n\u001b[0;32m      4\u001b[0m     \u001b[38;5;28;01mif\u001b[39;00m\u001b[38;5;124m\"\u001b[39m\u001b[38;5;124mktm\u001b[39m\u001b[38;5;124m\"\u001b[39m \u001b[38;5;129;01min\u001b[39;00m each_student[\u001b[38;5;124m'\u001b[39m\u001b[38;5;124maddress\u001b[39m\u001b[38;5;124m'\u001b[39m]:\n\u001b[0;32m      5\u001b[0m         student_living_in_Ktm\u001b[38;5;241m.\u001b[39mappend(each_student[\u001b[38;5;124m'\u001b[39m\u001b[38;5;124mname\u001b[39m\u001b[38;5;124m'\u001b[39m])\n",
      "\u001b[1;31mNameError\u001b[0m: name 'student_data' is not defined"
     ]
    }
   ],
   "source": [
    "student_living_in_Ktm=[]\n",
    "\n",
    "for each_student in student_data:\n",
    "    if\"ktm\" in each_student['address']:\n",
    "        student_living_in_Ktm.append(each_student['name'])"
   ]
  },
  {
   "cell_type": "markdown",
   "metadata": {},
   "source": [
    "### File Hhandling"
   ]
  },
  {
   "cell_type": "code",
   "execution_count": 1,
   "metadata": {},
   "outputs": [
    {
     "ename": "SyntaxError",
     "evalue": "unterminated string literal (detected at line 15) (3685375426.py, line 15)",
     "output_type": "error",
     "traceback": [
      "\u001b[1;36m  Cell \u001b[1;32mIn[1], line 15\u001b[1;36m\u001b[0m\n\u001b[1;33m    with open(''example_files/example.txt','r') as file\u001b[0m\n\u001b[1;37m                                            ^\u001b[0m\n\u001b[1;31mSyntaxError\u001b[0m\u001b[1;31m:\u001b[0m unterminated string literal (detected at line 15)\n"
     ]
    }
   ],
   "source": [
    "with open('example_files/example.txt','r')as files:\n",
    "    content = file.red()\n",
    "    print(\"Reading entire file:\\n\",content)\n",
    "\n",
    "#  # #Writing to a file\n",
    "with open('example_files/example.txt','w') as file:\n",
    "    file.write(\"Hello, this is a new line\\n\")\n",
    "    file.write(\"This is another line\")\n",
    "\n",
    "# Appending to a file \n",
    "with open('example_files/example2.txt', 'a') as file:\n",
    "    file.write(\"\\n Appending this line\")\n",
    "\n",
    "# Reading file line by line\n",
    "with open(''example_files/example.txt','r') as file\n",
    "          "
   ]
  },
  {
   "cell_type": "code",
   "execution_count": 40,
   "metadata": {},
   "outputs": [],
   "source": [
    "import json\n",
    "#create a student data with 10 elements \n",
    "employee=[\n",
    "    {\n",
    "        \"employee_id\":\"001\",\n",
    "        \"name\":\"Raju Kuikel\",\n",
    "        \"address\":\"kalanki,Ktm\",\n",
    "        \"phone_no\":\"123456789\",\n",
    "        \"interest\":\"admin\",\n",
    "    },\n",
    "    {\n",
    "        \"employee_id\":\"002\",\n",
    "        \"name\":\"Dinesh Dahal\",\n",
    "        \"address\":\"lele,Ktm\",\n",
    "        \"phone_no\":\"1234684789\",\n",
    "        \"interest\":\"admin\",\n",
    "    },\n",
    "    {\n",
    "        \"employee_id\":\"003\",\n",
    "        \"name\":\"utsab Kharel\",\n",
    "        \"address\":\"baneshwor,Ktm\",\n",
    "        \"phone_no\":\"123404169\",\n",
    "        \"interest\":\"manager\",\n",
    "    },\n",
    "    {\n",
    "        \"employee_id\":\"004\",\n",
    "        \"name\":\"juliee shrestha \",\n",
    "        \"address\":\"teku,Ktm\",\n",
    "        \"phone_no\":\"1234056789\",\n",
    "        \"interest\":\"receptionist\",\n",
    "    },\n",
    "    {\n",
    "        \"employee_id\":\"006\",\n",
    "        \"name\":\"manish gautam\",\n",
    "        \"address\":\"kapan,Ktm\",\n",
    "        \"phone_no\":\"1234454186789\",\n",
    "        \"interest\":\"supervisior\",\n",
    "    },\n",
    "    {\n",
    "        \"employee_id\":\"006\",\n",
    "        \"name\":\"Rubin awale\",\n",
    "        \"address\":\"walkhu,lalitpur\",\n",
    "        \"phone_no\":\"12363589999\",\n",
    "        \"interest\":\"supervisior\",\n",
    "    },\n",
    "    {\n",
    "        \"employee_id\":\"007\",\n",
    "        \"name\":\"Sujal Chitrakar\",\n",
    "        \"address\":\"patan,lalitp\",\n",
    "        \"phone_no\":\"125282689\",\n",
    "        \"interest\":\"Associate Manager\",\n",
    "    },\n",
    "]\n",
    "# write to json file \n",
    "with open ('example_files/employee.json','w')as json_file:\n",
    "    json.dump(employee,json_file,indent=4)"
   ]
  },
  {
   "cell_type": "code",
   "execution_count": 48,
   "metadata": {},
   "outputs": [
    {
     "name": "stdout",
     "output_type": "stream",
     "text": [
      "{'employee_id': '001', 'name': 'Raju Kuikel', 'address': 'kalanki,Ktm', 'phone_no': '123456789', 'interest': 'admin', 'iq_score': 130}\n",
      "{'employee_id': '001', 'name': 'Raju Kuikel', 'address': 'kalanki,Ktm', 'phone_no': '123456789', 'interest': 'admin', 'iq_score': 130}\n",
      "{'employee_id': '002', 'name': 'Dinesh Dahal', 'address': 'lele,Ktm', 'phone_no': '1234684789', 'interest': 'admin', 'iq_score': 97}\n",
      "{'employee_id': '002', 'name': 'Dinesh Dahal', 'address': 'lele,Ktm', 'phone_no': '1234684789', 'interest': 'admin', 'iq_score': 97}\n",
      "{'employee_id': '003', 'name': 'utsab Kharel', 'address': 'baneshwor,Ktm', 'phone_no': '123404169', 'interest': 'manager', 'iq_score': 91}\n",
      "{'employee_id': '003', 'name': 'utsab Kharel', 'address': 'baneshwor,Ktm', 'phone_no': '123404169', 'interest': 'manager', 'iq_score': 91}\n",
      "{'employee_id': '004', 'name': 'juliee shrestha ', 'address': 'teku,Ktm', 'phone_no': '231653415', 'interest': 'receptionist', 'iq_score': 137}\n",
      "{'employee_id': '004', 'name': 'juliee shrestha ', 'address': 'teku,Ktm', 'phone_no': '231653415', 'interest': 'receptionist', 'iq_score': 137}\n",
      "{'employee_id': '006', 'name': 'manish gautam', 'address': 'kapan,Ktm', 'phone_no': '1234454186789', 'interest': 'supervisior', 'iq_score': 107}\n",
      "{'employee_id': '006', 'name': 'manish gautam', 'address': 'kapan,Ktm', 'phone_no': '1234454186789', 'interest': 'supervisior', 'iq_score': 107}\n",
      "{'employee_id': '006', 'name': 'Rubin awale', 'address': 'walkhu,lalitpur', 'phone_no': '12363589999', 'interest': 'supervisior', 'iq_score': 105}\n",
      "{'employee_id': '006', 'name': 'Rubin awale', 'address': 'walkhu,lalitpur', 'phone_no': '12363589999', 'interest': 'supervisior', 'iq_score': 105}\n",
      "{'employee_id': '007', 'name': 'Sujal Chitrakar', 'address': 'patan,lalitp', 'phone_no': '125282689', 'interest': 'Associate Manager', 'iq_score': 104}\n",
      "{'employee_id': '007', 'name': 'Sujal Chitrakar', 'address': 'patan,lalitp', 'phone_no': '125282689', 'interest': 'Associate Manager', 'iq_score': 104}\n"
     ]
    }
   ],
   "source": [
    "import random\n",
    "\n",
    "random.seed(42)\n",
    "\n",
    "#add IQ scores between 90-140 for each student \n",
    "for each_employee in employee:\n",
    "   print(each_employee)\n",
    "   each_employee['iq_score'] = random.randint(90, 140)\n",
    "   print(each_employee)\n",
    "#write updated data back to jason file \n",
    "with open('example_files/employee.json','w')as json_files:\n",
    "   json.dump(employee ,json_files ,indent=4)\n"
   ]
  },
  {
   "cell_type": "code",
   "execution_count": 49,
   "metadata": {},
   "outputs": [],
   "source": [
    "# function to update student info \n",
    "def update_employee(employee_id,field,new_value):\n",
    "    for each_employee in employee:\n",
    "        if each_employee['employee_id'] == employee_id:\n",
    "            each_employee[field]=new_value\n",
    "            return True\n",
    "    return False\n",
    "\n",
    "update_employee('004','phone_no','231653415')\n",
    "\n",
    "with open ('example_files/employee.json','w') as json_files:\n",
    "    json.dump(employee,json_files,indent=4)"
   ]
  },
  {
   "cell_type": "code",
   "execution_count": 63,
   "metadata": {},
   "outputs": [
    {
     "name": "stdout",
     "output_type": "stream",
     "text": [
      "high_iq_employee\n",
      "each_employee {'employee_id': '007', 'name': 'Sujal Chitrakar', 'address': 'patan,lalitp', 'phone_no': '125282689', 'interest': 'Associate Manager', 'iq_score': 104}\n",
      "NUmber of employee  with IQ> 100: 7\n",
      "\n",
      " employee with high IQ:\n",
      "Name:Sujal Chitrakar,IQ:iq_score\n",
      "Name:Sujal Chitrakar,IQ:iq_score\n",
      "Name:Sujal Chitrakar,IQ:iq_score\n",
      "Name:Sujal Chitrakar,IQ:iq_score\n",
      "Name:Sujal Chitrakar,IQ:iq_score\n",
      "Name:Sujal Chitrakar,IQ:iq_score\n",
      "Name:Sujal Chitrakar,IQ:iq_score\n"
     ]
    }
   ],
   "source": [
    "# Read the Json File \n",
    "with open('example_files/employee.json','r') as json_file:\n",
    "    data = json.load(json_file)\n",
    "high_iq_employee= [employee for each_employee in data if employee.get('iq_score',0)>100]\n",
    "print(\"high_iq_employee\")\n",
    "print(\"each_employee\",each_employee)\n",
    "print(f\"NUmber of employee  with IQ> 100: {len(high_iq_employee)}\")\n",
    "print(\"\\n employee with high IQ:\")\n",
    "\n",
    "for employee in high_iq_employee:\n",
    "     print(f\"Name:{each_employee['name']},IQ:{'iq_score'}\")"
   ]
  },
  {
   "cell_type": "code",
   "execution_count": null,
   "metadata": {},
   "outputs": [],
   "source": []
  },
  {
   "cell_type": "code",
   "execution_count": null,
   "metadata": {},
   "outputs": [],
   "source": []
  }
 ],
 "metadata": {
  "kernelspec": {
   "display_name": ".venv",
   "language": "python",
   "name": "python3"
  },
  "language_info": {
   "codemirror_mode": {
    "name": "ipython",
    "version": 3
   },
   "file_extension": ".py",
   "mimetype": "text/x-python",
   "name": "python",
   "nbconvert_exporter": "python",
   "pygments_lexer": "ipython3",
   "version": "3.13.1"
  }
 },
 "nbformat": 4,
 "nbformat_minor": 2
}
